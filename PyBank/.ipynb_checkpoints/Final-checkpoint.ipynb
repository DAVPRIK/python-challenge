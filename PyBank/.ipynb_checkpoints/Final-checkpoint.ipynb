{
 "cells": [
  {
   "cell_type": "code",
   "execution_count": 1,
   "metadata": {},
   "outputs": [
    {
     "name": "stdout",
     "output_type": "stream",
     "text": [
      "Financial Analysis\n",
      "-------------------------------\n",
      "Total Months:  86\n",
      "Net Total: $ 38382578\n",
      "Average Change: $ -2315\n",
      "Greatest Increase:  Jan-2012 ($ 1926159 )\n",
      "Greatest Decrease:  Aug-2013 ($ -2196167 )\n"
     ]
    }
   ],
   "source": [
    "#import os module\n",
    "import os\n",
    "\n",
    "#import module for reading csv file\n",
    "import csv\n",
    "\n",
    "# Set path for file\n",
    "csvpath = os.path.join(\"Resources\",\"budget_data.csv\")\n",
    "#print(csvpath)\n",
    "\n",
    "# Open and read the CSV\n",
    "with open(csvpath, newline=\"\") as csvfile:\n",
    "   \n",
    "    \n",
    "    # Read header row first\n",
    "    csvreader = csv.reader(csvfile, delimiter=\",\")\n",
    "    csv_header = next(csvfile)\n",
    "    \n",
    "    # Declare variables as empty lists\n",
    "    Months = []\n",
    "    Profit_Loss = []\n",
    "    Differences = []\n",
    "    Greatest_Increase_Date = \"\"\n",
    "    Greatest_Decrease_Date = \"\"\n",
    "    \n",
    "    # Count total number of months \n",
    "    for row in csvreader:\n",
    "        Months.append(row[0])   \n",
    "        Profit_Loss.append(int(row[1]))\n",
    "      \n",
    "    for i in range(1, len(Profit_Loss)):\n",
    "        \n",
    "        # Find average change between months\n",
    "        Differences.append(Profit_Loss[i] - Profit_Loss[i-1])\n",
    "        \n",
    "        # Find average of values\n",
    "        Average_Change = sum(Differences) / len(Differences)\n",
    "        \n",
    "        # Determine greatest increase and date\n",
    "        Greatest_Increase = max(Differences)\n",
    "        Greatest_Increase_Date = str(Months[Differences.index(max(Differences))])\n",
    "        \n",
    "        \n",
    "        # Determine greatest decrease and date\n",
    "        Greatest_Decrease = min(Differences)\n",
    "        Greatest_Decrease_Date = str(Months[Differences.index(min(Differences))])\n",
    "        \n",
    "  \n",
    "    print(\"Financial Analysis\")\n",
    "    print(\"-------------------------------\")\n",
    "    print(\"Total Months: \", len(Months))\n",
    "    print(\"Net Total: $\", sum(Profit_Loss))\n",
    "    print(\"Average Change: $\", round(Average_Change))  \n",
    "    print(\"Greatest Increase: \", Greatest_Increase_Date, \"($\", Greatest_Increase,\")\")\n",
    "    print(\"Greatest Decrease: \", Greatest_Decrease_Date, \"($\", Greatest_Decrease,\")\")\n",
    "\n",
    "output_path = os.path.join(\"Resources\", \"output\", \"new.txt\")    \n",
    "with open(output_path, 'w', newline='') as new:\n",
    "\n",
    "    \n",
    "    new.write(\"Financial Analysis\") \n",
    "    new.write(\"\\n\") \n",
    "    new.write(\"------------------------\") \n",
    "    new.write(\"\\n\") \n",
    "    new.write(f\"Total Months:{len(Months)}\") \n",
    "    new.write(\"\\n\") \n",
    "    new.write(f\"Total: ${sum(Profit_Loss)}\") \n",
    "    new.write(\"\\n\") \n",
    "    new.write(f\"Average Change: {round(Average_Change)}\") \n",
    "    new.write(\"\\n\") \n",
    "    new.write(f\"Greatest Increase in Profits: {Greatest_Increase_Date} (${(str(Greatest_Increase))})\") \n",
    "    new.write(\"\\n\") \n",
    "    new.write(f\"Greatest Decrease in Profits: {Greatest_Decrease_Date} (${(str(Greatest_Decrease))})\")\n",
    "    "
   ]
  },
  {
   "cell_type": "code",
   "execution_count": null,
   "metadata": {},
   "outputs": [],
   "source": []
  },
  {
   "cell_type": "code",
   "execution_count": null,
   "metadata": {},
   "outputs": [],
   "source": []
  }
 ],
 "metadata": {
  "kernelspec": {
   "display_name": "Python 3",
   "language": "python",
   "name": "python3"
  },
  "language_info": {
   "codemirror_mode": {
    "name": "ipython",
    "version": 3
   },
   "file_extension": ".py",
   "mimetype": "text/x-python",
   "name": "python",
   "nbconvert_exporter": "python",
   "pygments_lexer": "ipython3",
   "version": "3.7.4"
  }
 },
 "nbformat": 4,
 "nbformat_minor": 4
}
